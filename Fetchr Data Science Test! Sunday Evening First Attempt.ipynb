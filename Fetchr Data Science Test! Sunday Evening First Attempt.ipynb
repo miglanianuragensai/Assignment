{
 "cells": [
  {
   "cell_type": "markdown",
   "metadata": {},
   "source": [
    "First Question:\n",
    "Write a function check_sum(), which, given li, a list of integers, and num, returns whether any two numbers in li add up to num. There are no duplicates in  li.\n"
   ]
  },
  {
   "cell_type": "code",
   "execution_count": 4,
   "metadata": {},
   "outputs": [],
   "source": [
    "#Getting the code from \n",
    "#http://interactivepython.org/runestone/static/pythonds/SortSearch/TheQuickSort.html\n",
    "def quickSort(alist):\n",
    "   quickSortHelper(alist,0,len(alist)-1)\n",
    "\n",
    "def quickSortHelper(alist,first,last):\n",
    "   if first<last:\n",
    "\n",
    "       splitpoint = partition(alist,first,last)\n",
    "\n",
    "       quickSortHelper(alist,first,splitpoint-1)\n",
    "       quickSortHelper(alist,splitpoint+1,last)\n",
    "\n",
    "\n",
    "def partition(alist,first,last):\n",
    "   pivotvalue = alist[first]\n",
    "\n",
    "   leftmark = first+1\n",
    "   rightmark = last\n",
    "\n",
    "   done = False\n",
    "   while not done:\n",
    "\n",
    "       while leftmark <= rightmark and alist[leftmark] <= pivotvalue:\n",
    "           leftmark = leftmark + 1\n",
    "\n",
    "       while alist[rightmark] >= pivotvalue and rightmark >= leftmark:\n",
    "           rightmark = rightmark -1\n",
    "\n",
    "       if rightmark < leftmark:\n",
    "           done = True\n",
    "       else:\n",
    "           temp = alist[leftmark]\n",
    "           alist[leftmark] = alist[rightmark]\n",
    "           alist[rightmark] = temp\n",
    "\n",
    "   temp = alist[first]\n",
    "   alist[first] = alist[rightmark]\n",
    "   alist[rightmark] = temp\n",
    "\n",
    "\n",
    "   return rightmark\n"
   ]
  },
  {
   "cell_type": "code",
   "execution_count": 5,
   "metadata": {},
   "outputs": [],
   "source": [
    "def check_sum(li,num):\n",
    "    lisize = len(li)\n",
    "    quickSort(li)\n",
    "    left = 0\n",
    "    right = len(li) - 1\n",
    "    while left<right:\n",
    "        if(li[left]+li[right] == num):\n",
    "            return 1\n",
    "        elif(li[left] + li[right] < num):\n",
    "            left = left + 1\n",
    "        else:\n",
    "            right = right - 1\n",
    "    return 0"
   ]
  },
  {
   "cell_type": "code",
   "execution_count": 6,
   "metadata": {},
   "outputs": [
    {
     "data": {
      "text/plain": [
       "1"
      ]
     },
     "execution_count": 6,
     "metadata": {},
     "output_type": "execute_result"
    }
   ],
   "source": [
    "check_sum(li=[11, 1, 2, 3, 10], num=21)"
   ]
  },
  {
   "cell_type": "code",
   "execution_count": 8,
   "metadata": {},
   "outputs": [
    {
     "data": {
      "text/plain": [
       "0"
      ]
     },
     "execution_count": 8,
     "metadata": {},
     "output_type": "execute_result"
    }
   ],
   "source": [
    "check_sum(li=[11, 1, 2, 3], num=21)"
   ]
  },
  {
   "cell_type": "markdown",
   "metadata": {},
   "source": [
    "2. Overlaps (Python)\n",
    "Write a function check_overlap(), which given li, a list of intervals like [2, 4], returns whether any two intervals overlap. Boundary overlaps don't count.\n",
    "Example:\n",
    ">>> check_overlap(li=[[1,5], [8,9], [3,6]]) ",
    "True ",
    ">>> check_overlap(li=[[1,5], [5,6]]) ",
    "False\n",
    "Your solution:"
   ]
  },
  {
   "cell_type": "code",
   "execution_count": 30,
   "metadata": {},
   "outputs": [],
   "source": [
    "li=[[1,5], [8,9]]\n",
    "def check_overlap(li):\n",
    "    lisize = len(li)\n",
    "    quickSort(li)\n",
    "    left = 0\n",
    "    right = len(li) - 1\n",
    "    while left < right:\n",
    "        if(li[left+1][0] < li[left][1]):\n",
    "            return 1\n",
    "        else:\n",
    "            left = left + 1\n",
    "    return 0"
   ]
  },
  {
   "cell_type": "code",
   "execution_count": 31,
   "metadata": {},
   "outputs": [
    {
     "data": {
      "text/plain": [
       "0"
      ]
     },
     "execution_count": 31,
     "metadata": {},
     "output_type": "execute_result"
    }
   ],
   "source": [
    "check_overlap(li=[[1,5], [5,6]])\n"
   ]
  },
  {
   "cell_type": "code",
   "execution_count": 32,
   "metadata": {},
   "outputs": [
    {
     "data": {
      "text/plain": [
       "1"
      ]
     },
     "execution_count": 32,
     "metadata": {},
     "output_type": "execute_result"
    }
   ],
   "source": [
    "check_overlap(li=[[1,5], [8,9], [3,6]])"
   ]
  },
  {
   "cell_type": "markdown",
   "metadata": {},
   "source": [
    "3. String replace (Python)\n",
    "Write a function replace_latest_slice() which takes a string query, and changes all occurences of latest_slice::<table> to (SELECT * FROM <table> WHERE ds = 'LATEST'). Use regexps if you want.\n",
    "Example:\n",
    ">>> replace_latest_slice(query=\"\"\"SELECT * FROM latest_slice::sale_order so INNER JOIN latest_slice::res_partner rp ON so.id = rp.id\"\"\") ",
    "SELECT * FROM (SELECT * FROM sale_order WHERE ds = 'LATEST') so INNER JOIN (SELECT * FROM res_partner WHERE ds = 'LATEST') rp ON so.id = rp.id\n",
    "Your solution:\n",
    "def replace_latest_slice(query):\n",
    "    pass\n"
   ]
  },
  {
   "cell_type": "code",
   "execution_count": 36,
   "metadata": {},
   "outputs": [],
   "source": [
    "#Although I am a bit confused in this one but it seems that we need to change the query this a specified keyword\n",
    "def replace_latest_slice(query=\"\"\"SELECT FROM latest_slice::sale_order so INNER JOIN latest_slice::res_partner rp ON so.id = rp.id\"\"\"):\n",
    "    print(query)\n",
    "\n",
    "    "
   ]
  },
  {
   "cell_type": "code",
   "execution_count": 96,
   "metadata": {},
   "outputs": [],
   "source": [
    "import re\n",
    "query=\"\"\"SELECT FROM latest_slice::sale_order so INNER JOIN latest_slice::res_partner rp ON so.id = rp.id\"\"\""
   ]
  },
  {
   "cell_type": "code",
   "execution_count": 101,
   "metadata": {},
   "outputs": [
    {
     "data": {
      "text/plain": [
       "\"SELECT FROM (SELECT FROM sale_order WHERE ds = 'LATEST')so INNER JOIN (SELECT FROM res_partner WHERE ds = 'LATEST')rp ON so.id = rp.id\""
      ]
     },
     "execution_count": 101,
     "metadata": {},
     "output_type": "execute_result"
    }
   ],
   "source": [
    "f_string = \"\"\"(SELECT FROM \"\"\"\n",
    "s_string = \"\"\" WHERE ds = 'LATEST')\"\"\"\n",
    "for i in range(0,query.count(\"latest_slice::\")):\n",
    "    y = query.split(\"latest_slice::\",1)[0] \n",
    "    x = query.split(\"latest_slice::\",1)[1] \n",
    "    y = y + f_string + x.split(\" \",1)[0] + s_string + x.split(\" \",1)[1] \n",
    "    query = y\n",
    "query\n"
   ]
  },
  {
   "cell_type": "markdown",
   "metadata": {},
   "source": [
    "4. SQL\n",
    "Given two tables:\n",
    "deliveries(id INT, day DATE, driver_id INT)\n",
    "drivers(id INT, name VARCHAR, city VARCHAR)\n",
    "Write an SQL query that\n",
    "\n",
    "counts for each driver, 2017 September deliveries that happened in Dubai (stats).\n",
    "\n",
    "#SELECT driver_id, count(driver_id),city FROM deliveries inner join drivers where deliveries.id = drivers.id group by driver_id having datepart(year,day) = 2017 and datepart(month,day) = 9 and city = \"Dubai\"\n",
    "\n",
    "counts how many drivers made more than 1,000 overall deliveries in Dubai (top drivers).\n",
    "#SELECT driver_id, count(driver_id) as cc from deliveries group_by driver_id having cc > 1000\n",
    "\n",
    "counts how many days driver John Smith made deliveries in 2017 September (active days).\n",
    "#SELECT count(driver_id),city FROM deliveries inner join drivers where deliveries.id = drivers.id group by driver_id having datepart(year,day) = 2017 and datepart(month,day) = 9 and name = \"John Smith\"\n",
    "\n",
    "\n",
    "counts deliveries on 2017-09-01 that were assigned to a non-existent driver (errors).\n",
    "#SELECT id, driver_id, day from deliveries where id NOT IN (select id from drivers) and date = \"2017-09-01\""
   ]
  }
 ],
 "metadata": {
  "kernelspec": {
   "display_name": "Python 3",
   "language": "python",
   "name": "python3"
  },
  "language_info": {
   "codemirror_mode": {
    "name": "ipython",
    "version": 3
   },
   "file_extension": ".py",
   "mimetype": "text/x-python",
   "name": "python",
   "nbconvert_exporter": "python",
   "pygments_lexer": "ipython3",
   "version": "3.6.1"
  }
 },
 "nbformat": 4,
 "nbformat_minor": 2
}
